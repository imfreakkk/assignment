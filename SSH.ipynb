{
 "cells": [
  {
   "cell_type": "code",
   "execution_count": 1,
   "id": "4a4fd188",
   "metadata": {},
   "outputs": [
    {
     "ename": "ModuleNotFoundError",
     "evalue": "No module named 'paramiko'",
     "output_type": "error",
     "traceback": [
      "\u001b[0;31m---------------------------------------------------------------------------\u001b[0m",
      "\u001b[0;31mModuleNotFoundError\u001b[0m                       Traceback (most recent call last)",
      "Cell \u001b[0;32mIn[1], line 3\u001b[0m\n\u001b[1;32m      1\u001b[0m \u001b[39mfrom\u001b[39;00m \u001b[39mflask\u001b[39;00m \u001b[39mimport\u001b[39;00m Flask, request\n\u001b[1;32m      2\u001b[0m \u001b[39mimport\u001b[39;00m \u001b[39mboto3\u001b[39;00m\n\u001b[0;32m----> 3\u001b[0m \u001b[39mimport\u001b[39;00m \u001b[39mparamiko\u001b[39;00m\n\u001b[1;32m      4\u001b[0m \u001b[39mimport\u001b[39;00m \u001b[39mos\u001b[39;00m\n\u001b[1;32m      6\u001b[0m app \u001b[39m=\u001b[39m Flask(\u001b[39m__name__\u001b[39m)\n",
      "\u001b[0;31mModuleNotFoundError\u001b[0m: No module named 'paramiko'"
     ]
    }
   ],
   "source": [
    "from flask import Flask, request\n",
    "import boto3\n",
    "import paramiko\n",
    "import os\n",
    "\n",
    "app = Flask(__name__)\n",
    "\n",
    "# Define the EC2 instance details\n",
    "instance_id = 'i-0e40262d55bb2c481'  #instance id\n",
    "key_pair_file = 'la.pem'   #pem key\n",
    "\n",
    "session = boto3.Session(\n",
    "    aws_access_key_id='your_access_key',\n",
    "    aws_secret_access_key='your_secret_key',\n",
    "    region_name='ap-south-1'\n",
    ")\n",
    "\n",
    "# Connect to the EC2 instance\n",
    "ec2 = session.resource('ec2')\n",
    "instance = ec2.Instance(instance_id)\n",
    "\n",
    "# Get the public IP address of the instance\n",
    "public_ip = instance.public_ip_address\n",
    "\n",
    "# Connect to the instance over SSH using paramiko\n",
    "key = paramiko.RSAKey.from_private_key_file(key_pair_file)\n",
    "client = paramiko.SSHClient()\n",
    "client.set_missing_host_key_policy(paramiko.AutoAddPolicy())\n",
    "client.connect(hostname=public_ip, username='ec2-user', pkey=key)\n",
    "\n",
    "@app.route('/', methods=['GET', 'POST'])\n",
    "def index():\n",
    "    if request.method == 'POST':\n",
    "        command = request.form.get('command')\n",
    "        stdin, stdout, stderr = client.exec_command(command)\n",
    "        output = stdout.read().decode() + stderr.read().decode()\n",
    "        return output\n",
    "    else:\n",
    "        return '''\n",
    "        <form method=\"post\">\n",
    "            Command: <input type=\"text\" name=\"command\">\n",
    "            <input type=\"submit\" value=\"Submit\">\n",
    "        </form>\n",
    "        '''\n",
    "\n",
    "if __name__ == '__main__':\n",
    "    app.run()\n"
   ]
  },
  {
   "cell_type": "code",
   "execution_count": null,
   "id": "50d6190a",
   "metadata": {},
   "outputs": [],
   "source": []
  },
  {
   "cell_type": "code",
   "execution_count": null,
   "id": "c25486f1",
   "metadata": {},
   "outputs": [],
   "source": [
    "#!/bin/bash\n",
    "\n",
    "# Get the third most CPU consuming process\n",
    "cpu_info=$(ps aux --sort=-%cpu | awk '{if(NR==4)  print $11,$3,$4,$6,$2}' )\n",
    "\n",
    "# Get the third most memory consuming process\n",
    "mem_info=$(ps aux --sort=-%mem | awk '{if(NR==4)   print $11,$3,$4,$6,$2}')\n",
    "\n",
    "# Output the information to a file\n",
    "echo \"Process Name % CPU used % Memory used PORT PID\" > output.txt\n",
    "echo $cpu_info >> output.txt\n",
    "echo $mem_info >> output.txt\n"
   ]
  }
 ],
 "metadata": {
  "kernelspec": {
   "display_name": "Python 3",
   "language": "python",
   "name": "python3"
  },
  "language_info": {
   "codemirror_mode": {
    "name": "ipython",
    "version": 3
   },
   "file_extension": ".py",
   "mimetype": "text/x-python",
   "name": "python",
   "nbconvert_exporter": "python",
   "pygments_lexer": "ipython3",
   "version": "3.9.6"
  },
  "vscode": {
   "interpreter": {
    "hash": "31f2aee4e71d21fbe5cf8b01ff0e069b9275f58929596ceb00d14d90e3e16cd6"
   }
  }
 },
 "nbformat": 4,
 "nbformat_minor": 5
}
